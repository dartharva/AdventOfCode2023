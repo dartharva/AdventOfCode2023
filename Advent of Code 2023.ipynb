{
 "cells": [
  {
   "cell_type": "markdown",
   "id": "af4f7ece",
   "metadata": {},
   "source": [
    "### Day 1"
   ]
  },
  {
   "cell_type": "code",
   "execution_count": 87,
   "id": "ecd94c67",
   "metadata": {},
   "outputs": [
    {
     "name": "stdout",
     "output_type": "stream",
     "text": [
      "55090\n"
     ]
    }
   ],
   "source": [
    "values = []\n",
    "\n",
    "with open('adventofcode/day1_input', 'r') as file:\n",
    "    for line in file.readlines():\n",
    "        digits = [int(c) for c in line if c.isdigit()]\n",
    "        values.append(digits[0]*10 + digits[-1])\n",
    "\n",
    "print(sum(values))"
   ]
  },
  {
   "cell_type": "code",
   "execution_count": 86,
   "id": "f1832851",
   "metadata": {},
   "outputs": [
    {
     "name": "stdout",
     "output_type": "stream",
     "text": [
      "54845\n"
     ]
    }
   ],
   "source": [
    "numdict = {\n",
    "    'one': 'on1e',\n",
    "    'two': 'tw2o',\n",
    "    'three': 'thr3e',\n",
    "    'four': 'f4ur',\n",
    "    'five': 'f5ve',\n",
    "    'six': 's6x',\n",
    "    'seven': 'se7en',\n",
    "    'eight': 'ei8ht',\n",
    "    'nine': 'n9ne'\n",
    "}\n",
    "\n",
    "def replacenums(text):\n",
    "    for key,value in numdict.items():\n",
    "        text = text.replace(key, value)\n",
    "    return text\n",
    "    \n",
    "values = []\n",
    "\n",
    "with open('adventofcode/day1_input', 'r') as file:\n",
    "    for line in file.readlines():\n",
    "        editedline = replacenums(line)\n",
    "        digits = [int(c) for c in editedline if c.isdigit()]\n",
    "        values.append(digits[0]*10 + digits[-1])\n",
    "        \n",
    "print(sum(values))"
   ]
  },
  {
   "cell_type": "markdown",
   "id": "67d25157",
   "metadata": {},
   "source": [
    "### Day 2"
   ]
  },
  {
   "cell_type": "code",
   "execution_count": 17,
   "id": "734e84e2",
   "metadata": {},
   "outputs": [
    {
     "name": "stdout",
     "output_type": "stream",
     "text": [
      "2771\n",
      "70924\n"
     ]
    }
   ],
   "source": [
    "import re\n",
    "\n",
    "# only 12 red cubes, 13 green cubes, and 14 blue cubes\n",
    "maxred = 12\n",
    "maxgreen = 13\n",
    "maxblue = 14\n",
    "\n",
    "valid_IDs = []\n",
    "power = 0     # part 2\n",
    "\n",
    "with open(\"adventofcode/day2_input\") as file:\n",
    "    for game in file.readlines():\n",
    "        game_no = int(re.search('Game (\\d+)', game).group(1))\n",
    "        redcubes = [int(x) for x in re.compile('(\\d+) red').findall(game)]\n",
    "        greencubes = [int(x) for x in re.compile('(\\d+) green').findall(game)]\n",
    "        bluecubes = [int(x) for x in re.compile('(\\d+) blue').findall(game)]\n",
    "        if max(redcubes) > maxred or max(greencubes) > maxgreen or max(bluecubes) > maxblue:\n",
    "            pass\n",
    "        else:\n",
    "            valid_IDs.append(game_no)\n",
    "            \n",
    "        #part 2\n",
    "        power += max(redcubes) * max(greencubes) * max(bluecubes)\n",
    " \n",
    "print(sum(valid_IDs))\n",
    "print(power)"
   ]
  },
  {
   "cell_type": "markdown",
   "id": "2b53947c",
   "metadata": {},
   "source": [
    "### Day 3"
   ]
  },
  {
   "cell_type": "code",
   "execution_count": 1,
   "id": "2dfc324f",
   "metadata": {},
   "outputs": [
    {
     "name": "stdout",
     "output_type": "stream",
     "text": [
      "525911\n",
      "75805607\n"
     ]
    }
   ],
   "source": [
    "import re\n",
    "import math\n",
    "\n",
    "with open('adventofcode/day3_input') as file:\n",
    "    chart = [line.strip('\\n') for line in file.readlines()]\n",
    "    \n",
    "    symbols = {(x,y): [] for x in range(140) for y in range(140) if chart[x][y] not in '01234566789.'}\n",
    "    \n",
    "    for level, row in enumerate(chart):\n",
    "        numbers = re.finditer(r'\\d+', row)\n",
    "        for place in numbers:\n",
    "            edges = [(x,y) for x in (level-1, level, level+1) for y in range(place.start()-1, place.end()+1)]\n",
    "            for k in edges & symbols.keys():\n",
    "                symbols[k].append(int(place.group()))\n",
    "    \n",
    "    print(sum([sum(n) for n in symbols.values()]))                    # Part 1\n",
    "    print(sum([math.prod(n) for n in symbols.values() if len(n) == 2]))    # Part 2"
   ]
  },
  {
   "cell_type": "markdown",
   "id": "9f629e2e",
   "metadata": {},
   "source": [
    "### Day 4"
   ]
  },
  {
   "cell_type": "code",
   "execution_count": 47,
   "id": "43b302c0",
   "metadata": {},
   "outputs": [
    {
     "name": "stdout",
     "output_type": "stream",
     "text": [
      "23235\n",
      "5920640\n"
     ]
    }
   ],
   "source": [
    "points = 0\n",
    "cards_count = {i: 1 for i in range(1,203)}\n",
    "\n",
    "with open('adventofcode/day4_input') as file:\n",
    "    for line in file.readlines():\n",
    "        card_no = int(re.search(r'\\d+', line).group())\n",
    "        card = line.split(':')[1].split('|')\n",
    "        winning = set(int(x) for x in re.findall(r'\\d+', card[0].strip()))\n",
    "        drawn = set(int(x) for x in re.findall(r'\\d+', card[1].strip()))\n",
    "        matches = drawn.intersection(winning)\n",
    "        i = len(matches)\n",
    "        if i > 0:\n",
    "            points += 1 << i-1\n",
    "            for j in range(card_no + 1, card_no + i + 1):\n",
    "                cards_count[j] += cards_count[card_no]\n",
    "        \n",
    "print(points)                     # Part 1\n",
    "print(sum(cards_count.values()))  # Part 2"
   ]
  }
 ],
 "metadata": {
  "kernelspec": {
   "display_name": "Python 3 (ipykernel)",
   "language": "python",
   "name": "python3"
  },
  "language_info": {
   "codemirror_mode": {
    "name": "ipython",
    "version": 3
   },
   "file_extension": ".py",
   "mimetype": "text/x-python",
   "name": "python",
   "nbconvert_exporter": "python",
   "pygments_lexer": "ipython3",
   "version": "3.10.12"
  }
 },
 "nbformat": 4,
 "nbformat_minor": 5
}
